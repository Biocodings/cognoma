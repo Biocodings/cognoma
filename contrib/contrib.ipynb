{
 "cells": [
  {
   "cell_type": "markdown",
   "metadata": {},
   "source": [
    "# Use the GitHub API to visualize project contributions"
   ]
  },
  {
   "cell_type": "code",
   "execution_count": 1,
   "metadata": {
    "collapsed": true
   },
   "outputs": [],
   "source": [
    "import os\n",
    "import re\n",
    "\n",
    "import pandas\n",
    "import requests\n",
    "import matplotlib\n",
    "import matplotlib.pyplot as plt\n",
    "import seaborn\n",
    "\n",
    "%matplotlib inline"
   ]
  },
  {
   "cell_type": "markdown",
   "metadata": {},
   "source": [
    "## Utilities for querying the GitHub API"
   ]
  },
  {
   "cell_type": "code",
   "execution_count": 2,
   "metadata": {
    "collapsed": true
   },
   "outputs": [],
   "source": [
    "def query(format_url, **kwargs):\n",
    "    url = format_url.format(**kwargs)\n",
    "    response = requests.get(url)\n",
    "    obj = response.json()\n",
    "    df = pandas.DataFrame(obj)\n",
    "    return df\n",
    "\n",
    "def concat_queries(format_url, kwargs_list):\n",
    "    dfs = list()\n",
    "    for kwargs in kwargs_list:\n",
    "        df = query(format_url, **kwargs)\n",
    "        for key, value in kwargs.items():\n",
    "            df[key] = value\n",
    "        dfs.append(df)\n",
    "    return pandas.concat(dfs)"
   ]
  },
  {
   "cell_type": "markdown",
   "metadata": {},
   "source": [
    "## Retrieve contribution data"
   ]
  },
  {
   "cell_type": "code",
   "execution_count": 3,
   "metadata": {},
   "outputs": [
    {
     "data": {
      "text/plain": [
       "['cognoma',\n",
       " 'core-service',\n",
       " 'task-service',\n",
       " 'cancer-data',\n",
       " 'machine-learning',\n",
       " 'sandbox',\n",
       " 'frontend',\n",
       " 'cognoma.github.io',\n",
       " 'uiux',\n",
       " 'ml-workers',\n",
       " 'genes',\n",
       " 'cognoml',\n",
       " 'figshare',\n",
       " 'infrastructure']"
      ]
     },
     "execution_count": 3,
     "metadata": {},
     "output_type": "execute_result"
    }
   ],
   "source": [
    "repo_df = query('https://api.github.com/orgs/cognoma/repos')\n",
    "repo_df.name.tolist()"
   ]
  },
  {
   "cell_type": "code",
   "execution_count": 4,
   "metadata": {
    "collapsed": true
   },
   "outputs": [],
   "source": [
    "format_url = 'https://api.github.com/repos/cognoma/{repo_name}/contributors'\n",
    "kwargs_list = [{'repo_name': repo} for repo in repo_df.name]\n",
    "contrib_df = concat_queries(format_url, kwargs_list)"
   ]
  },
  {
   "cell_type": "markdown",
   "metadata": {},
   "source": [
    "## Contribution count heatmap: repository versus user"
   ]
  },
  {
   "cell_type": "code",
   "execution_count": 5,
   "metadata": {
    "scrolled": false
   },
   "outputs": [
    {
     "data": {
      "image/png": "[encoded data removed]",
      "text/plain": [
       "<matplotlib.figure.Figure at 0x7f846e0933c8>"
      ]
     },
     "metadata": {},
     "output_type": "display_data"
    }
   ],
   "source": [
    "contrib_plot_df = (contrib_df\n",
    "    .pivot_table('contributions', 'repo_name', 'login', fill_value=0)\n",
    ")\n",
    "cmap = seaborn.cubehelix_palette(light=1, as_cmap=True, gamma=15)\n",
    "ax = seaborn.heatmap(contrib_plot_df, square=True, linewidths=0.5, cmap=cmap, linecolor='#d3d3d3')\n",
    "#ax.xaxis.set_ticks_position('top')\n",
    "#ax.xaxis.set_label_position('top')\n",
    "plt.xticks(rotation=90, color='#3f3f3f')\n",
    "plt.yticks(color='#3f3f3f')\n",
    "plt.ylabel('')\n",
    "plt.xlabel('')\n",
    "fig = ax.get_figure()\n",
    "fig.set_size_inches(w=8, h=2.75)\n",
    "fig.savefig('contribution-heatmap.png', dpi=200, bbox_inches='tight')\n",
    "fig.savefig('contribution-heatmap.svg', bbox_inches='tight')"
   ]
  },
  {
   "cell_type": "code",
   "execution_count": 6,
   "metadata": {
    "collapsed": true
   },
   "outputs": [],
   "source": [
    "# Save user-by-repo contribution count data\n",
    "contrib_plot_df.transpose().to_csv('contribution-by-repo.tsv', sep='\\t')"
   ]
  },
  {
   "cell_type": "markdown",
   "metadata": {},
   "source": [
    "## Create a total contribution summary table"
   ]
  },
  {
   "cell_type": "code",
   "execution_count": 7,
   "metadata": {},
   "outputs": [
    {
     "data": {
      "text/html": [
       "<div>\n",
       "<table border=\"1\" class=\"dataframe\">\n",
       "  <thead>\n",
       "    <tr style=\"text-align: right;\">\n",
       "      <th></th>\n",
       "      <th>login</th>\n",
       "      <th>maintainer</th>\n",
       "    </tr>\n",
       "  </thead>\n",
       "  <tbody>\n",
       "    <tr>\n",
       "      <th>0</th>\n",
       "      <td>KarinSpiderwoman</td>\n",
       "      <td>1</td>\n",
       "    </tr>\n",
       "    <tr>\n",
       "      <th>1</th>\n",
       "      <td>awm33</td>\n",
       "      <td>1</td>\n",
       "    </tr>\n",
       "  </tbody>\n",
       "</table>\n",
       "</div>"
      ],
      "text/plain": [
       "              login  maintainer\n",
       "0  KarinSpiderwoman           1\n",
       "1             awm33           1"
      ]
     },
     "execution_count": 7,
     "metadata": {},
     "output_type": "execute_result"
    }
   ],
   "source": [
    "# Extract maintainers from the repository README\n",
    "path = os.path.join('..', 'README.md')\n",
    "with open(path) as read_file:\n",
    "    readme = read_file.read()\n",
    "\n",
    "pattern = r'@\\*\\*(.+?)\\*\\*'\n",
    "maintainers = re.findall(pattern, readme)\n",
    "maintainers = sorted(set(maintainers))\n",
    "maintainer_df = pandas.DataFrame({'login': maintainers, 'maintainer': 1})\n",
    "maintainer_df.head(2)"
   ]
  },
  {
   "cell_type": "code",
   "execution_count": 8,
   "metadata": {},
   "outputs": [
    {
     "data": {
      "text/html": [
       "<div>\n",
       "<table border=\"1\" class=\"dataframe\">\n",
       "  <thead>\n",
       "    <tr style=\"text-align: right;\">\n",
       "      <th></th>\n",
       "      <th>login</th>\n",
       "      <th>contributions</th>\n",
       "      <th>maintainer</th>\n",
       "    </tr>\n",
       "  </thead>\n",
       "  <tbody>\n",
       "    <tr>\n",
       "      <th>8</th>\n",
       "      <td>bdolly</td>\n",
       "      <td>148</td>\n",
       "      <td>1</td>\n",
       "    </tr>\n",
       "    <tr>\n",
       "      <th>14</th>\n",
       "      <td>dhimmel</td>\n",
       "      <td>133</td>\n",
       "      <td>1</td>\n",
       "    </tr>\n",
       "  </tbody>\n",
       "</table>\n",
       "</div>"
      ],
      "text/plain": [
       "      login  contributions  maintainer\n",
       "8    bdolly            148           1\n",
       "14  dhimmel            133           1"
      ]
     },
     "execution_count": 8,
     "metadata": {},
     "output_type": "execute_result"
    }
   ],
   "source": [
    "# Total contributions per user excluding sandbox\n",
    "summary_df = (contrib_plot_df\n",
    "    .query(\"repo_name != 'sandbox'\")\n",
    "    .sum(axis='rows')\n",
    "    .rename('contributions')\n",
    "    .reset_index()\n",
    "    .query('contributions > 0')\n",
    "    .merge(maintainer_df, how='outer')\n",
    "    .fillna(0)\n",
    "    .sort_values(['maintainer', 'contributions', 'login'], ascending=[False, False, True])\n",
    ")\n",
    "\n",
    "for column in 'contributions', 'maintainer':\n",
    "    summary_df[column] = summary_df[column].astype(int)\n",
    "\n",
    "summary_df.to_csv('contributor-summary.tsv', sep='\\t', index=False)\n",
    "summary_df.head(2)"
   ]
  }
 ],
 "metadata": {
  "anaconda-cloud": {},
  "kernelspec": {
   "display_name": "Python [default]",
   "language": "python",
   "name": "python3"
  },
  "language_info": {
   "codemirror_mode": {
    "name": "ipython",
    "version": 3
   },
   "file_extension": ".py",
   "mimetype": "text/x-python",
   "name": "python",
   "nbconvert_exporter": "python",
   "pygments_lexer": "ipython3",
   "version": "3.6.0"
  }
 },
 "nbformat": 4,
 "nbformat_minor": 1
}
